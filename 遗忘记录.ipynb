{
 "cells": [
  {
   "cell_type": "code",
   "execution_count": 18,
   "metadata": {
    "collapsed": true,
    "pycharm": {
     "name": "#%%\n"
    }
   },
   "outputs": [
    {
     "name": "stdout",
     "output_type": "stream",
     "text": [
      "0.0\n",
      "3.0 6.0 9.0\n",
      "4.0 8.0 9.0\n"
     ]
    }
   ],
   "source": [
    "from d2l import torch as d2l\n",
    "metric = d2l.Accumulator(3)\n",
    "print(metric[1])\n",
    "metric.add(3,6,9)\n",
    "print(metric[0],metric[1],metric[2])\n",
    "metric.add(1,2,0)\n",
    "print(metric[0],metric[1],metric[2])"
   ]
  },
  {
   "cell_type": "markdown",
   "source": [
    "卷积当中pad为啥能保证图片大小不变？\n",
    "![卷积当中pad为啥能保证图片大小不变](https://pic3.zhimg.com/v2-2a2307d5c20551f1a3e8458c7070cf16_b.jpg)"
   ],
   "metadata": {
    "collapsed": false,
    "pycharm": {
     "name": "#%% md\n"
    }
   }
  },
  {
   "cell_type": "code",
   "execution_count": 18,
   "outputs": [],
   "source": [],
   "metadata": {
    "collapsed": false,
    "pycharm": {
     "name": "#%%\n"
    }
   }
  }
 ],
 "metadata": {
  "kernelspec": {
   "display_name": "Python 3",
   "language": "python",
   "name": "python3"
  },
  "language_info": {
   "codemirror_mode": {
    "name": "ipython",
    "version": 2
   },
   "file_extension": ".py",
   "mimetype": "text/x-python",
   "name": "python",
   "nbconvert_exporter": "python",
   "pygments_lexer": "ipython2",
   "version": "2.7.6"
  },
  "pycharm": {
   "stem_cell": {
    "cell_type": "raw",
    "source": [
     "##%% md\n",
     " metric的用法"
    ],
    "metadata": {
     "collapsed": false
    }
   }
  }
 },
 "nbformat": 4,
 "nbformat_minor": 0
}