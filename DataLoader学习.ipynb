{
 "cells": [
  {
   "cell_type": "code",
   "execution_count": 14,
   "metadata": {
    "collapsed": true
   },
   "outputs": [
    {
     "data": {
      "text/plain": "(torch.Size([32, 3, 256, 256]),\n torch.Size([32, 5]),\n torch.float32,\n torch.float64)"
     },
     "execution_count": 14,
     "metadata": {},
     "output_type": "execute_result"
    }
   ],
   "source": [
    "import torch\n",
    "import numpy as np\n",
    "\n",
    "class Dataset(torch.utils.data.Dataset):\n",
    "    def __init__(self, part):\n",
    "        self.part = part\n",
    "        self.data = np.loadtxt(fname='data/pika/%s.csv' % part,\n",
    "                               delimiter=',') # part 决定加载train 或者 test\n",
    "\n",
    "    def __getitem__(self, idx):\n",
    "        x = Image.open('data/pika/%s/%s.jpg' %\n",
    "                       (self.part, idx)).convert('RGB') #将图片转换成 RGB图片\n",
    "        x = np.array(x) # RGB图片\n",
    "        #[256, 256, 3] -> [3, 256, 256]\n",
    "        x = x.transpose((0, 2, 1))\n",
    "        x = x.transpose((1, 0, 2))\n",
    "\n",
    "        x = torch.tensor(x)\n",
    "        x = x.float()\n",
    "\n",
    "        y = torch.tensor(self.data[idx])\n",
    "\n",
    "        return x, y\n",
    "\n",
    "    def __len__(self):\n",
    "        return len(self.data)\n",
    "\n",
    "loader_train = torch.utils.data.DataLoader(dataset=Dataset(part='train - 副本'),\n",
    "                                           batch_size=32,\n",
    "                                           shuffle=False,\n",
    "                                           drop_last=True) # drop_last=True ： 如果最后一个 batch 的大小小于 32，则丢弃该 batch\n",
    "\n",
    "loader_test = torch.utils.data.DataLoader(dataset=Dataset(part='test - 副本'),\n",
    "                                          batch_size=32,\n",
    "                                          shuffle=False,\n",
    "                                          drop_last=True)\n",
    "\n",
    "for i, (x, y) in enumerate(loader_train): # 用作test 看一下loader_train正不正常，具体看前置知识\n",
    "    break\n",
    "\n",
    "x.shape, y.shape, x.dtype, y.dtype"
   ]
  },
  {
   "cell_type": "code",
   "execution_count": null,
   "outputs": [],
   "source": [],
   "metadata": {
    "collapsed": false,
    "pycharm": {
     "name": "#%%\n"
    }
   }
  }
 ],
 "metadata": {
  "kernelspec": {
   "display_name": "Python 3",
   "language": "python",
   "name": "python3"
  },
  "language_info": {
   "codemirror_mode": {
    "name": "ipython",
    "version": 2
   },
   "file_extension": ".py",
   "mimetype": "text/x-python",
   "name": "python",
   "nbconvert_exporter": "python",
   "pygments_lexer": "ipython2",
   "version": "2.7.6"
  }
 },
 "nbformat": 4,
 "nbformat_minor": 0
}