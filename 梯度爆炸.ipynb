{
 "cells": [
  {
   "cell_type": "markdown",
   "source": [
    "#14 数值稳定性 + 模型初始化和激活函数\n",
    "\n",
    "梯度爆炸 -> 乱跳 => 找不到最优解\n",
    "梯度消失 -> 跑的很慢 => 一直没有进展\n",
    "\n",
    "# 梯度爆炸 和 梯度消失在数学上的理解\n",
    "![在这里插入图片描述](https://img-blog.csdnimg.cn/0522420d8fdf4a709f1c1f4b2551b633.png)\n",
    "是一种连乘的感觉\n",
    "又因为：\n",
    "![在这里插入图片描述](https://img-blog.csdnimg.cn/0ab767b1858647bc81dcba6950656859.png)\n",
    "\n",
    "\n"
   ],
   "metadata": {
    "collapsed": false
   }
  },
  {
   "cell_type": "code",
   "execution_count": null,
   "metadata": {
    "collapsed": true
   },
   "outputs": [],
   "source": []
  }
 ],
 "metadata": {
  "kernelspec": {
   "display_name": "Python 3",
   "language": "python",
   "name": "python3"
  },
  "language_info": {
   "codemirror_mode": {
    "name": "ipython",
    "version": 2
   },
   "file_extension": ".py",
   "mimetype": "text/x-python",
   "name": "python",
   "nbconvert_exporter": "python",
   "pygments_lexer": "ipython2",
   "version": "2.7.6"
  }
 },
 "nbformat": 4,
 "nbformat_minor": 0
}