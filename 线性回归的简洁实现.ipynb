{
 "cells": [
  {
   "cell_type": "code",
   "execution_count": 13,
   "metadata": {
    "collapsed": true
   },
   "outputs": [],
   "source": [
    "import numpy as np\n",
    "import torch\n",
    "import torch.utils.data as data\n",
    "from d2l import torch as d2l\n",
    "\n",
    "true_w = torch.tensor([2,-3.4])\n",
    "true_b = 4.2\n",
    "#生成1000个样本\n",
    "features,labels = d2l.synthetic_data(true_w,true_b,1000)"
   ]
  },
  {
   "cell_type": "markdown",
   "source": [
    "data_arrays 包含两个 Tensor x 和 y，那么 *data_arrays 相当于将 data_arrays 解包成为 x, y，然后 TensorDataset(x, y) 就会将 x 和 y 打包成为一个数据集。"
   ],
   "metadata": {
    "collapsed": false
   }
  },
  {
   "cell_type": "code",
   "execution_count": 14,
   "outputs": [
    {
     "data": {
      "text/plain": "[tensor([[-0.8344, -1.4031],\n         [ 0.2374, -1.1492],\n         [-2.4154, -0.2105],\n         [ 0.5564, -2.0968],\n         [-2.3945, -0.3187],\n         [ 0.3039, -0.5589],\n         [ 0.2022, -1.5612],\n         [ 0.2003, -0.6324],\n         [-0.0831,  0.5851],\n         [ 2.0128,  0.4570]]),\n tensor([[ 7.2980],\n         [ 8.5565],\n         [ 0.0835],\n         [12.4380],\n         [ 0.4902],\n         [ 6.7003],\n         [ 9.9116],\n         [ 6.7506],\n         [ 2.0489],\n         [ 6.6753]])]"
     },
     "execution_count": 14,
     "metadata": {},
     "output_type": "execute_result"
    }
   ],
   "source": [
    "def load_array(data_arrays,batch_size,is_train=True):\n",
    "    \"\"\"构造一个PyTorch的数据迭代器\"\"\"\n",
    "    dataset = data.TensorDataset(*data_arrays)\n",
    "    return data.DataLoader(dataset,batch_size,shuffle=is_train)\n",
    "\n",
    "batch_size = 10\n",
    "data_iter = load_array((features,labels),batch_size)\n",
    "\n",
    "next(iter(data_iter))"
   ],
   "metadata": {
    "collapsed": false,
    "pycharm": {
     "name": "#%%\n"
    }
   }
  },
  {
   "cell_type": "code",
   "execution_count": 15,
   "outputs": [
    {
     "data": {
      "text/plain": "tensor([0.])"
     },
     "execution_count": 15,
     "metadata": {},
     "output_type": "execute_result"
    }
   ],
   "source": [
    "# 使用框架的预定义好的层\n",
    "from torch import nn #neaural network\n",
    "net = nn.Sequential(nn.Linear(2,1)) #输入维度是2输出维度是1，有两个输入，然后输出层有一个神经元\n",
    "# 初始化模型参数\n",
    "net[0].weight.data.normal_(0,0.01)\n",
    "net[0].bias.data.fill_(0)"
   ],
   "metadata": {
    "collapsed": false,
    "pycharm": {
     "name": "#%%\n"
    }
   }
  },
  {
   "cell_type": "code",
   "execution_count": 16,
   "outputs": [],
   "source": [
    "loss = nn.MSELoss()"
   ],
   "metadata": {
    "collapsed": false,
    "pycharm": {
     "name": "#%%\n"
    }
   }
  },
  {
   "cell_type": "code",
   "execution_count": 17,
   "outputs": [],
   "source": [
    "trainer = torch.optim.SGD(net.parameters(),lr=0.03) #梯度下降"
   ],
   "metadata": {
    "collapsed": false,
    "pycharm": {
     "name": "#%%\n"
    }
   }
  },
  {
   "cell_type": "markdown",
   "source": [
    "1. num_epochs = 3 定义了总共的迭代轮数，即训练过程要对数据集进行多少次的迭代。\n",
    "2. 使用一个双重循环来遍历数据集（通过 data_iter 产生）。在每个迭代步骤中，首先将输入数据 X 喂入神经网络模型 net 中，得到模型的预测输出，然后计算预测结果和真实标签 y 之间的损失值 l。\n",
    "3. 接着，调用 trainer.zero_grad() 来清空过往的梯度信息，然后使用 l.backward() 对损失函数进行反向传播计算出各个参数的梯度，最后使用 trainer.step() 根据梯度更新神经网络的权重和偏置参数。\n",
    "4. 在每一轮迭代结束后，计算并输出该轮的平均损失值 l，用于监控训练的进度和性能。在上面的代码中，输出的内容为：训练轮次 epoch，以及当轮的损失值 loss。\n",
    "5. 这段代码实现了一个简单的神经网络训练过程，通过循环迭代多次来更新神经网络的参数，以尽可能地减小模型在训练数据集上的损失值。"
   ],
   "metadata": {
    "collapsed": false
   }
  },
  {
   "cell_type": "code",
   "execution_count": 18,
   "outputs": [
    {
     "name": "stdout",
     "output_type": "stream",
     "text": [
      "epoch 1, loss 0.000214\n",
      "epoch 2, loss 0.000099\n",
      "epoch 3, loss 0.000100\n"
     ]
    }
   ],
   "source": [
    "num_epochs = 3\n",
    "\n",
    "for epoch in range(num_epochs):\n",
    "    for X,y in data_iter:\n",
    "        l = loss(net(X),y)\n",
    "        trainer.zero_grad() # 清空过往的梯度信息\n",
    "        l.backward() # 反向传播 pytorch模型自动帮着做了sum()，所以这里不用sum()\n",
    "        trainer.step() # 训练\n",
    "    l = loss(net(features),labels) #看一下这一波练的咋样\n",
    "    print(f'epoch {epoch + 1}, loss {l:f}')"
   ],
   "metadata": {
    "collapsed": false,
    "pycharm": {
     "name": "#%%\n"
    }
   }
  }
 ],
 "metadata": {
  "kernelspec": {
   "display_name": "Python 3",
   "language": "python",
   "name": "python3"
  },
  "language_info": {
   "codemirror_mode": {
    "name": "ipython",
    "version": 2
   },
   "file_extension": ".py",
   "mimetype": "text/x-python",
   "name": "python",
   "nbconvert_exporter": "python",
   "pygments_lexer": "ipython2",
   "version": "2.7.6"
  }
 },
 "nbformat": 4,
 "nbformat_minor": 0
}