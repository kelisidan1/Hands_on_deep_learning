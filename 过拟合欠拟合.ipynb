{
 "cells": [
  {
   "cell_type": "code",
   "execution_count": 56,
   "metadata": {
    "collapsed": true
   },
   "outputs": [],
   "source": [
    "import math\n",
    "import numpy as np\n",
    "import torch\n",
    "from torch import nn\n",
    "from d2l import torch as d2l"
   ]
  },
  {
   "cell_type": "code",
   "execution_count": 57,
   "outputs": [
    {
     "data": {
      "text/plain": "(array([[ 1.64254566],\n        [ 0.2236447 ],\n        [ 1.43055395],\n        [-1.42776258],\n        [ 0.37949699],\n        [ 0.25899349],\n        [ 0.511566  ],\n        [ 0.63209722],\n        [ 0.01263846],\n        [-1.21458633]]),\n array([[ 1.00000000e+00,  1.64254566e+00,  2.69795624e+00,\n          4.43151630e+00,  7.27896785e+00],\n        [ 1.00000000e+00,  2.23644696e-01,  5.00169502e-02,\n          1.11860256e-02,  2.50169531e-03],\n        [ 1.00000000e+00,  1.43055395e+00,  2.04648460e+00,\n          2.92760662e+00,  4.18809921e+00],\n        [ 1.00000000e+00, -1.42776258e+00,  2.03850598e+00,\n         -2.91050256e+00,  4.15550664e+00],\n        [ 1.00000000e+00,  3.79496995e-01,  1.44017969e-01,\n          5.46543865e-02,  2.07411754e-02],\n        [ 1.00000000e+00,  2.58993490e-01,  6.70776278e-02,\n          1.73726689e-02,  4.49940815e-03],\n        [ 1.00000000e+00,  5.11565997e-01,  2.61699769e-01,\n          1.33876703e-01,  6.84867692e-02],\n        [ 1.00000000e+00,  6.32097215e-01,  3.99546889e-01,\n          2.52552476e-01,  1.59637717e-01],\n        [ 1.00000000e+00,  1.26384609e-02,  1.59730693e-04,\n          2.01875012e-06,  2.55138944e-08],\n        [ 1.00000000e+00, -1.21458633e+00,  1.47521996e+00,\n         -1.79178201e+00,  2.17627394e+00]]))"
     },
     "execution_count": 57,
     "metadata": {},
     "output_type": "execute_result"
    }
   ],
   "source": [
    "# 前置知识\n",
    "features = np.random.normal(size=(5 + 5, 1)) #正太分布生成随机数\n",
    "\n",
    "poly_features = np.power(features, np.arange(5).reshape(1, -1)) # 输入的x随机\n",
    "\n",
    "features,poly_features"
   ],
   "metadata": {
    "collapsed": false,
    "pycharm": {
     "name": "#%%\n"
    }
   }
  },
  {
   "cell_type": "code",
   "execution_count": 58,
   "outputs": [
    {
     "data": {
      "text/plain": "(array([[ 0.01442141],\n        [ 1.66603734],\n        [-0.74595713],\n        [ 0.99011266],\n        [ 0.29457451],\n        [ 0.46402243],\n        [-1.86307662],\n        [ 0.10044282],\n        [ 1.34571665],\n        [-0.21783803],\n        [-0.96195143],\n        [ 0.27073849],\n        [ 1.97510631],\n        [ 0.29545702],\n        [ 0.40010602],\n        [ 2.14107738],\n        [ 0.19171322],\n        [ 0.23459035],\n        [-0.83327544],\n        [ 0.64823983],\n        [ 0.48277579],\n        [ 0.69907124],\n        [-1.04688766],\n        [-1.74020823],\n        [-1.04853385],\n        [ 1.59010427],\n        [-0.07377866],\n        [-0.37415038],\n        [ 0.06024873],\n        [ 0.459935  ],\n        [-0.18112082],\n        [ 2.22953111],\n        [-0.39261694],\n        [-0.70978883],\n        [-0.02641785],\n        [ 1.45920878],\n        [-0.59678397],\n        [ 0.40412674],\n        [ 1.40994172],\n        [-0.58754083],\n        [ 0.04515519],\n        [-0.31866796],\n        [-1.2450711 ],\n        [ 2.01473673],\n        [-0.60416141],\n        [-0.16438785],\n        [-1.15165553],\n        [-0.43312888],\n        [-1.39925203],\n        [-0.86143414],\n        [-1.22999419],\n        [ 2.10212875],\n        [ 1.05613672],\n        [ 1.85242219],\n        [-1.28197951],\n        [ 0.32941518],\n        [-0.39162031],\n        [-0.79887539],\n        [ 1.45527204],\n        [ 0.21549952],\n        [-2.18848536],\n        [-0.99743862],\n        [ 1.48436794],\n        [-1.80306833],\n        [-1.69053188],\n        [-0.61798301],\n        [ 1.36670293],\n        [ 0.26699826],\n        [-0.91127963],\n        [ 0.54560192],\n        [ 0.56758708],\n        [-1.2684008 ],\n        [-0.0535292 ],\n        [ 0.54325987],\n        [-1.54876034],\n        [ 1.68604972],\n        [-0.31785518],\n        [ 2.1850756 ],\n        [-0.70973053],\n        [ 0.15728109],\n        [ 0.53888783],\n        [ 1.00916126],\n        [-0.42056713],\n        [-0.26670764],\n        [ 0.48671566],\n        [-0.161741  ],\n        [ 0.20382021],\n        [-0.25960209],\n        [ 0.2935327 ],\n        [ 0.63945527],\n        [ 1.00228667],\n        [ 0.00529059],\n        [ 0.67453039],\n        [ 0.64772383],\n        [-0.49219931],\n        [-1.6598356 ],\n        [-1.5711177 ],\n        [ 0.03355295],\n        [ 0.25425247],\n        [ 1.60284697],\n        [-0.05130773],\n        [ 1.30706397],\n        [ 1.22146598],\n        [-0.00942453],\n        [-1.67326915],\n        [ 0.75276221],\n        [ 0.38567027],\n        [ 0.80924804],\n        [ 1.78884034],\n        [ 0.35817106],\n        [ 1.2267084 ],\n        [-0.47931297],\n        [-0.24248435],\n        [-1.7089162 ],\n        [-2.01181717],\n        [ 0.58596559],\n        [ 1.77180311],\n        [ 1.23938536],\n        [ 1.46408673],\n        [ 0.37137441],\n        [-0.60961973],\n        [ 1.96839595],\n        [-0.56818167],\n        [ 1.61235179],\n        [ 1.51665448],\n        [ 1.55930565],\n        [-0.4771715 ],\n        [-1.41019151],\n        [ 0.6838807 ],\n        [ 0.03755182],\n        [-1.09558558],\n        [ 1.28523088],\n        [-0.0652145 ],\n        [ 0.5405617 ],\n        [ 0.45649484],\n        [-0.49252887],\n        [ 0.03289652],\n        [ 1.38733148],\n        [ 1.35388833],\n        [-1.93996946],\n        [-0.38289283],\n        [-0.98496509],\n        [-1.2255624 ],\n        [ 0.54845755],\n        [-1.99209041],\n        [-0.73450189],\n        [-0.45963912],\n        [ 0.16867165],\n        [ 1.26981969],\n        [ 0.10423838],\n        [-1.0397691 ],\n        [-1.51759671],\n        [ 0.26465392],\n        [-1.35695922],\n        [-1.13017137],\n        [ 0.04082964],\n        [-1.02824501],\n        [ 1.54498858],\n        [ 1.41459321],\n        [-0.14378951],\n        [-1.21749519],\n        [-0.72899682],\n        [-0.91733102],\n        [ 0.07523528],\n        [-0.98013205],\n        [ 0.13148668],\n        [-0.94765341],\n        [-0.30172538],\n        [ 0.64472458],\n        [-1.16998144],\n        [ 1.57254469],\n        [-1.00953885],\n        [-0.41681867],\n        [ 0.14064905],\n        [-0.3892787 ],\n        [ 1.34625124],\n        [ 0.58164508],\n        [ 1.10881579],\n        [-0.50245567],\n        [-0.49179438],\n        [-0.54611704],\n        [-0.30240945],\n        [-0.03928423],\n        [ 0.02833251],\n        [-0.39919558],\n        [-0.29385202],\n        [-0.75187167],\n        [ 0.55916999],\n        [ 0.35641478],\n        [ 1.54142681],\n        [-1.45862738],\n        [ 0.83629224],\n        [-0.74310431],\n        [ 1.37168761],\n        [-0.13512713],\n        [-0.3662183 ],\n        [-1.03147607],\n        [-0.70048497],\n        [ 0.4882659 ],\n        [-0.69343506]]),\n array([[ 1.00000000e+00,  1.44214084e-02,  1.03988510e-04, ...,\n          1.41926001e-46,  1.13709601e-49,  8.63080310e-53],\n        [ 1.00000000e+00,  1.66603734e+00,  1.38784020e+00, ...,\n          1.65033415e-11,  1.52751018e-12,  1.33941525e-13],\n        [ 1.00000000e+00, -7.45957134e-01,  2.78226023e-01, ...,\n         -1.92782366e-17,  7.98929894e-19, -3.13667081e-20],\n        ...,\n        [ 1.00000000e+00, -7.00484972e-01,  2.45339598e-01, ...,\n         -6.61776696e-18,  2.57535906e-19, -9.49473852e-21],\n        [ 1.00000000e+00,  4.88265905e-01,  1.19201797e-01, ...,\n          1.43248561e-20,  3.88574379e-22,  9.98566425e-24],\n        [ 1.00000000e+00, -6.93435061e-01,  2.40426092e-01, ...,\n         -5.57224268e-18,  2.14666025e-19, -7.83457620e-21]]))"
     },
     "execution_count": 58,
     "metadata": {},
     "output_type": "execute_result"
    }
   ],
   "source": [
    "max_degree = 20  # 多项式的最大阶数  其实就是 x最高幂是多少\n",
    "n_train, n_test = 100, 100  # 训练和测试数据集大小\n",
    "true_w = np.zeros(max_degree)  # 分配大量的空间\n",
    "true_w[0:4] = np.array([5, 1.2, -3.4, 5.6])\n",
    "\n",
    "features = np.random.normal(size=(n_train + n_test, 1)) #正太分布\n",
    "np.random.shuffle(features)\n",
    "poly_features = np.power(features, np.arange(max_degree).reshape(1, -1)) #得到的就是x^0 + x^1+..+x^max_degree-1     总共训练集和测试集200个样本\n",
    "for i in range(max_degree):\n",
    "    poly_features[:, i] /= math.gamma(i + 1)  # gamma(n)=(n-1)!\n",
    "# labels的维度:(n_train+n_test,)\n",
    "labels = np.dot(poly_features, true_w) # 200*20 × 20*1 得到真正的labels\n",
    "labels += np.random.normal(scale=0.1, size=labels.shape) #加一点噪音，等会拟合的时候上点难度\n",
    "# true_w,features,poly_features\n",
    "features,poly_features"
   ],
   "metadata": {
    "collapsed": false,
    "pycharm": {
     "name": "#%%\n"
    }
   }
  },
  {
   "cell_type": "code",
   "execution_count": 59,
   "outputs": [
    {
     "data": {
      "text/plain": "(array([[0.01442141],\n        [1.66603734]]),\n array([[1.00000000e+00, 1.44214084e-02, 1.03988510e-04, 4.99886923e-07,\n         1.80226836e-09, 5.19824962e-12, 1.24943468e-14, 2.57408682e-17,\n         4.64024465e-20, 7.43542923e-23, 1.07229361e-25, 1.40581674e-28,\n         1.68948811e-31, 1.87421523e-34, 1.93063023e-37, 1.85616046e-40,\n         1.67302800e-43, 1.41926001e-46, 1.13709601e-49, 8.63080310e-53],\n        [1.00000000e+00, 1.66603734e+00, 1.38784020e+00, 7.70731197e-01,\n         3.21016737e-01, 1.06965174e-01, 2.97013289e-02, 7.06907469e-03,\n         1.47216780e-03, 2.72520723e-04, 4.54029700e-05, 6.87664029e-06,\n         9.54728288e-07, 1.22354844e-07, 1.45605527e-08, 1.61722830e-09,\n         1.68397670e-10, 1.65033415e-11, 1.52751018e-12, 1.33941525e-13]]),\n array([4.8926845 , 6.51445069]))"
     },
     "execution_count": 59,
     "metadata": {},
     "output_type": "execute_result"
    }
   ],
   "source": [
    "features[:2], poly_features[:2, :], labels[:2]"
   ],
   "metadata": {
    "collapsed": false,
    "pycharm": {
     "name": "#%%\n"
    }
   }
  },
  {
   "cell_type": "code",
   "execution_count": 60,
   "outputs": [],
   "source": [
    "def evaluate_loss(net, data_iter, loss):\n",
    "    \"\"\"评估给定数据集上模型的损失\"\"\"\n",
    "    metric = d2l.Accumulator(2)  # 损失的总和,样本数量\n",
    "    for X, y in data_iter:\n",
    "        out = net(X)\n",
    "        y = y.reshape(out.shape)\n",
    "        l = loss(out, y)\n",
    "        metric.add(l.sum(), l.numel())\n",
    "    return metric[0] / metric[1] #正确预测数/预测总数 = 预测准确率"
   ],
   "metadata": {
    "collapsed": false,
    "pycharm": {
     "name": "#%%\n"
    }
   }
  },
  {
   "cell_type": "code",
   "execution_count": 61,
   "outputs": [],
   "source": [
    "def train(train_features, test_features, train_labels, test_labels,\n",
    "          num_epochs=400):\n",
    "    loss = nn.MSELoss(reduction='none') # Mean Square Error Loss\n",
    "    input_shape = train_features.shape[-1]\n",
    "    # 不设置偏置，因为我们已经在多项式中实现了它\n",
    "    net = nn.Sequential(nn.Linear(input_shape, 1, bias=False))\n",
    "    batch_size = min(10, train_labels.shape[0])\n",
    "    train_iter = d2l.load_array((train_features, train_labels.reshape(-1,1)), batch_size=batch_size)\n",
    "    test_iter = d2l.load_array((test_features, test_labels.reshape(-1,1)), batch_size=batch_size, is_train=False)\n",
    "    trainer = torch.optim.SGD(net.parameters(), lr=0.01)\n",
    "    animator = d2l.Animator(xlabel='epoch', ylabel='loss', yscale='log',\n",
    "                            xlim=[1, num_epochs], ylim=[1e-3, 1e2],\n",
    "                            legend=['train', 'test']) # 可视化损失值变化\n",
    "    for epoch in range(num_epochs):\n",
    "        d2l.train_epoch_ch3(net, train_iter, loss, trainer)\n",
    "        if epoch == 0 or (epoch + 1) % 20 == 0:\n",
    "            animator.add(epoch + 1, (evaluate_loss(net, train_iter, loss),\n",
    "                                     evaluate_loss(net, test_iter, loss)))\n",
    "    print('weight:', net[0].weight.data.numpy())"
   ],
   "metadata": {
    "collapsed": false,
    "pycharm": {
     "name": "#%%\n"
    }
   }
  },
  {
   "cell_type": "code",
   "execution_count": 62,
   "outputs": [
    {
     "ename": "TypeError",
     "evalue": "'int' object is not callable",
     "output_type": "error",
     "traceback": [
      "\u001B[1;31m---------------------------------------------------------------------------\u001B[0m",
      "\u001B[1;31mTypeError\u001B[0m                                 Traceback (most recent call last)",
      "Cell \u001B[1;32mIn[62], line 2\u001B[0m\n\u001B[0;32m      1\u001B[0m \u001B[38;5;66;03m# 从多项式特征中选择前4个维度，即1,x,x^2/2!,x^3/3!\u001B[39;00m\n\u001B[1;32m----> 2\u001B[0m \u001B[43mtrain\u001B[49m\u001B[43m(\u001B[49m\u001B[43mpoly_features\u001B[49m\u001B[43m[\u001B[49m\u001B[43m:\u001B[49m\u001B[43mn_train\u001B[49m\u001B[43m,\u001B[49m\u001B[43m \u001B[49m\u001B[43m:\u001B[49m\u001B[38;5;241;43m4\u001B[39;49m\u001B[43m]\u001B[49m\u001B[43m,\u001B[49m\u001B[43m \u001B[49m\u001B[43mpoly_features\u001B[49m\u001B[43m[\u001B[49m\u001B[43mn_train\u001B[49m\u001B[43m:\u001B[49m\u001B[43m,\u001B[49m\u001B[43m \u001B[49m\u001B[43m:\u001B[49m\u001B[38;5;241;43m4\u001B[39;49m\u001B[43m]\u001B[49m\u001B[43m,\u001B[49m\u001B[43mlabels\u001B[49m\u001B[43m[\u001B[49m\u001B[43m:\u001B[49m\u001B[43mn_train\u001B[49m\u001B[43m]\u001B[49m\u001B[43m,\u001B[49m\u001B[43m \u001B[49m\u001B[43mlabels\u001B[49m\u001B[43m[\u001B[49m\u001B[43mn_train\u001B[49m\u001B[43m:\u001B[49m\u001B[43m]\u001B[49m\u001B[43m)\u001B[49m\n",
      "Cell \u001B[1;32mIn[61], line 8\u001B[0m, in \u001B[0;36mtrain\u001B[1;34m(train_features, test_features, train_labels, test_labels, num_epochs)\u001B[0m\n\u001B[0;32m      6\u001B[0m net \u001B[38;5;241m=\u001B[39m nn\u001B[38;5;241m.\u001B[39mSequential(nn\u001B[38;5;241m.\u001B[39mLinear(input_shape, \u001B[38;5;241m1\u001B[39m, bias\u001B[38;5;241m=\u001B[39m\u001B[38;5;28;01mFalse\u001B[39;00m))\n\u001B[0;32m      7\u001B[0m batch_size \u001B[38;5;241m=\u001B[39m \u001B[38;5;28mmin\u001B[39m(\u001B[38;5;241m10\u001B[39m, train_labels\u001B[38;5;241m.\u001B[39mshape[\u001B[38;5;241m0\u001B[39m])\n\u001B[1;32m----> 8\u001B[0m train_iter \u001B[38;5;241m=\u001B[39m \u001B[43md2l\u001B[49m\u001B[38;5;241;43m.\u001B[39;49m\u001B[43mload_array\u001B[49m\u001B[43m(\u001B[49m\u001B[43m(\u001B[49m\u001B[43mtrain_features\u001B[49m\u001B[43m,\u001B[49m\u001B[43m \u001B[49m\u001B[43mtrain_labels\u001B[49m\u001B[38;5;241;43m.\u001B[39;49m\u001B[43mreshape\u001B[49m\u001B[43m(\u001B[49m\u001B[38;5;241;43m-\u001B[39;49m\u001B[38;5;241;43m1\u001B[39;49m\u001B[43m,\u001B[49m\u001B[38;5;241;43m1\u001B[39;49m\u001B[43m)\u001B[49m\u001B[43m)\u001B[49m\u001B[43m,\u001B[49m\u001B[43m \u001B[49m\u001B[43mbatch_size\u001B[49m\u001B[38;5;241;43m=\u001B[39;49m\u001B[43mbatch_size\u001B[49m\u001B[43m)\u001B[49m\n\u001B[0;32m      9\u001B[0m test_iter \u001B[38;5;241m=\u001B[39m d2l\u001B[38;5;241m.\u001B[39mload_array((test_features, test_labels\u001B[38;5;241m.\u001B[39mreshape(\u001B[38;5;241m-\u001B[39m\u001B[38;5;241m1\u001B[39m,\u001B[38;5;241m1\u001B[39m)), batch_size\u001B[38;5;241m=\u001B[39mbatch_size, is_train\u001B[38;5;241m=\u001B[39m\u001B[38;5;28;01mFalse\u001B[39;00m)\n\u001B[0;32m     10\u001B[0m trainer \u001B[38;5;241m=\u001B[39m torch\u001B[38;5;241m.\u001B[39moptim\u001B[38;5;241m.\u001B[39mSGD(net\u001B[38;5;241m.\u001B[39mparameters(), lr\u001B[38;5;241m=\u001B[39m\u001B[38;5;241m0.01\u001B[39m)\n",
      "File \u001B[1;32m~\\AppData\\Local\\Programs\\Python\\Python310\\lib\\site-packages\\d2l\\torch.py:160\u001B[0m, in \u001B[0;36mload_array\u001B[1;34m(data_arrays, batch_size, is_train)\u001B[0m\n\u001B[0;32m    158\u001B[0m \u001B[38;5;28;01mdef\u001B[39;00m \u001B[38;5;21mload_array\u001B[39m(data_arrays, batch_size, is_train\u001B[38;5;241m=\u001B[39m\u001B[38;5;28;01mTrue\u001B[39;00m):\n\u001B[0;32m    159\u001B[0m \u001B[38;5;250m    \u001B[39m\u001B[38;5;124;03m\"\"\"Construct a PyTorch data iterator.\"\"\"\u001B[39;00m\n\u001B[1;32m--> 160\u001B[0m     dataset \u001B[38;5;241m=\u001B[39m \u001B[43mdata\u001B[49m\u001B[38;5;241;43m.\u001B[39;49m\u001B[43mTensorDataset\u001B[49m\u001B[43m(\u001B[49m\u001B[38;5;241;43m*\u001B[39;49m\u001B[43mdata_arrays\u001B[49m\u001B[43m)\u001B[49m\n\u001B[0;32m    161\u001B[0m     \u001B[38;5;28;01mreturn\u001B[39;00m data\u001B[38;5;241m.\u001B[39mDataLoader(dataset, batch_size, shuffle\u001B[38;5;241m=\u001B[39mis_train)\n",
      "File \u001B[1;32m~\\AppData\\Local\\Programs\\Python\\Python310\\lib\\site-packages\\torch\\utils\\data\\dataset.py:192\u001B[0m, in \u001B[0;36mTensorDataset.__init__\u001B[1;34m(self, *tensors)\u001B[0m\n\u001B[0;32m    191\u001B[0m \u001B[38;5;28;01mdef\u001B[39;00m \u001B[38;5;21m__init__\u001B[39m(\u001B[38;5;28mself\u001B[39m, \u001B[38;5;241m*\u001B[39mtensors: Tensor) \u001B[38;5;241m-\u001B[39m\u001B[38;5;241m>\u001B[39m \u001B[38;5;28;01mNone\u001B[39;00m:\n\u001B[1;32m--> 192\u001B[0m     \u001B[38;5;28;01massert\u001B[39;00m \u001B[38;5;28;43mall\u001B[39;49m\u001B[43m(\u001B[49m\u001B[43mtensors\u001B[49m\u001B[43m[\u001B[49m\u001B[38;5;241;43m0\u001B[39;49m\u001B[43m]\u001B[49m\u001B[38;5;241;43m.\u001B[39;49m\u001B[43msize\u001B[49m\u001B[43m(\u001B[49m\u001B[38;5;241;43m0\u001B[39;49m\u001B[43m)\u001B[49m\u001B[43m \u001B[49m\u001B[38;5;241;43m==\u001B[39;49m\u001B[43m \u001B[49m\u001B[43mtensor\u001B[49m\u001B[38;5;241;43m.\u001B[39;49m\u001B[43msize\u001B[49m\u001B[43m(\u001B[49m\u001B[38;5;241;43m0\u001B[39;49m\u001B[43m)\u001B[49m\u001B[43m \u001B[49m\u001B[38;5;28;43;01mfor\u001B[39;49;00m\u001B[43m \u001B[49m\u001B[43mtensor\u001B[49m\u001B[43m \u001B[49m\u001B[38;5;129;43;01min\u001B[39;49;00m\u001B[43m \u001B[49m\u001B[43mtensors\u001B[49m\u001B[43m)\u001B[49m, \u001B[38;5;124m\"\u001B[39m\u001B[38;5;124mSize mismatch between tensors\u001B[39m\u001B[38;5;124m\"\u001B[39m\n\u001B[0;32m    193\u001B[0m     \u001B[38;5;28mself\u001B[39m\u001B[38;5;241m.\u001B[39mtensors \u001B[38;5;241m=\u001B[39m tensors\n",
      "File \u001B[1;32m~\\AppData\\Local\\Programs\\Python\\Python310\\lib\\site-packages\\torch\\utils\\data\\dataset.py:192\u001B[0m, in \u001B[0;36m<genexpr>\u001B[1;34m(.0)\u001B[0m\n\u001B[0;32m    191\u001B[0m \u001B[38;5;28;01mdef\u001B[39;00m \u001B[38;5;21m__init__\u001B[39m(\u001B[38;5;28mself\u001B[39m, \u001B[38;5;241m*\u001B[39mtensors: Tensor) \u001B[38;5;241m-\u001B[39m\u001B[38;5;241m>\u001B[39m \u001B[38;5;28;01mNone\u001B[39;00m:\n\u001B[1;32m--> 192\u001B[0m     \u001B[38;5;28;01massert\u001B[39;00m \u001B[38;5;28mall\u001B[39m(\u001B[43mtensors\u001B[49m\u001B[43m[\u001B[49m\u001B[38;5;241;43m0\u001B[39;49m\u001B[43m]\u001B[49m\u001B[38;5;241;43m.\u001B[39;49m\u001B[43msize\u001B[49m\u001B[43m(\u001B[49m\u001B[38;5;241;43m0\u001B[39;49m\u001B[43m)\u001B[49m \u001B[38;5;241m==\u001B[39m tensor\u001B[38;5;241m.\u001B[39msize(\u001B[38;5;241m0\u001B[39m) \u001B[38;5;28;01mfor\u001B[39;00m tensor \u001B[38;5;129;01min\u001B[39;00m tensors), \u001B[38;5;124m\"\u001B[39m\u001B[38;5;124mSize mismatch between tensors\u001B[39m\u001B[38;5;124m\"\u001B[39m\n\u001B[0;32m    193\u001B[0m     \u001B[38;5;28mself\u001B[39m\u001B[38;5;241m.\u001B[39mtensors \u001B[38;5;241m=\u001B[39m tensors\n",
      "\u001B[1;31mTypeError\u001B[0m: 'int' object is not callable"
     ]
    }
   ],
   "source": [
    "# 从多项式特征中选择前4个维度，即1,x,x^2/2!,x^3/3!\n",
    "train(poly_features[:n_train, :4], poly_features[n_train:, :4],labels[:n_train], labels[n_train:])"
   ],
   "metadata": {
    "collapsed": false,
    "pycharm": {
     "name": "#%%\n"
    }
   }
  },
  {
   "cell_type": "markdown",
   "source": [
    "不知道为啥运行不了。。。"
   ],
   "metadata": {
    "collapsed": false
   }
  }
 ],
 "metadata": {
  "kernelspec": {
   "display_name": "Python 3",
   "language": "python",
   "name": "python3"
  },
  "language_info": {
   "codemirror_mode": {
    "name": "ipython",
    "version": 2
   },
   "file_extension": ".py",
   "mimetype": "text/x-python",
   "name": "python",
   "nbconvert_exporter": "python",
   "pygments_lexer": "ipython2",
   "version": "2.7.6"
  }
 },
 "nbformat": 4,
 "nbformat_minor": 0
}